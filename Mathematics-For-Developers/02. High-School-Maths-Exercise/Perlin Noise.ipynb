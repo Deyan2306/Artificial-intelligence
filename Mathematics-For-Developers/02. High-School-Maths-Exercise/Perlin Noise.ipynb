{
 "cells": [
  {
   "cell_type": "code",
   "execution_count": 4,
   "id": "e540e42e",
   "metadata": {},
   "outputs": [],
   "source": [
    "# Let's just leave this here, for the imports later on ;)\n",
    "import sympy as smp\n",
    "import numpy as np"
   ]
  },
  {
   "cell_type": "markdown",
   "id": "8122aa6f",
   "metadata": {},
   "source": [
    "# Perlin Noise (Implementation and Description)\n",
    "##### Author: Deyan Sirakov *(17 year old nerd, with a lot of free time on his hands)*"
   ]
  },
  {
   "cell_type": "markdown",
   "id": "46dd6a77",
   "metadata": {},
   "source": [
    "### 1. What is Perlin Noise?\n",
    "So, what is Perlin Noise? If you hear this term for the first time in your life, it may sound really complicated, but believe me, it's really just some high school math and a lot of creativity. The Perlin Noise is just a gradient noise, which looks way more natural than the [https://en.wikipedia.org/wiki/White_noise](white noise) we see sometimes for example when the connection between the TV and the reciever is bad. The Perlin Noise was developed by [https://en.wikipedia.org/wiki/Ken_Perlin](Ken Perlin in) 1983 (way older than minecraft). He created it as a result of a frustration with the \"machine-like\" look of the CGI by that time. Perlin developed it after working on Disney's [https://en.wikipedia.org/wiki/Tron](Tron (1982)). "
   ]
  },
  {
   "cell_type": "markdown",
   "id": "1720d0f9",
   "metadata": {},
   "source": [
    "###### Resources:\n",
    " Most of the information is found in the [https://en.wikipedia.org/wiki/Perlin_noise](wikipedia page)"
   ]
  },
  {
   "cell_type": "markdown",
   "id": "788493fa",
   "metadata": {},
   "source": [
    "### 2. Explanation of the implementation\n",
    "Let's simply explore the algorithm in more detail"
   ]
  },
  {
   "cell_type": "markdown",
   "id": "bbe1b03b",
   "metadata": {},
   "source": [
    "### 3. Implementation\n",
    "#### (The long awaited part)"
   ]
  },
  {
   "cell_type": "code",
   "execution_count": 5,
   "id": "15ae2184",
   "metadata": {},
   "outputs": [],
   "source": [
    "# Here goes the implementation of the Perlin Noise (Probably later on :Д)"
   ]
  }
 ],
 "metadata": {
  "kernelspec": {
   "display_name": "Python 3 (ipykernel)",
   "language": "python",
   "name": "python3"
  },
  "language_info": {
   "codemirror_mode": {
    "name": "ipython",
    "version": 3
   },
   "file_extension": ".py",
   "mimetype": "text/x-python",
   "name": "python",
   "nbconvert_exporter": "python",
   "pygments_lexer": "ipython3",
   "version": "3.9.13"
  }
 },
 "nbformat": 4,
 "nbformat_minor": 5
}
