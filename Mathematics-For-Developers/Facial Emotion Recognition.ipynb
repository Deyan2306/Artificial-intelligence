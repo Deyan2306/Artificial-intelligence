{
 "cells": [
  {
   "cell_type": "code",
   "execution_count": 1,
   "id": "021d5591",
   "metadata": {},
   "outputs": [],
   "source": [
    "%matplotlib inline"
   ]
  },
  {
   "cell_type": "code",
   "execution_count": 104,
   "id": "a5dfb957",
   "metadata": {},
   "outputs": [],
   "source": [
    "# Imports\n",
    "import numpy as np\n",
    "import pandas as pd\n",
    "import cv2\n",
    "import matplotlib.pyplot as plt\n",
    "\n",
    "from math import sqrt\n",
    "\n",
    "# Constants\n",
    "IMAGE_SIZE = 48"
   ]
  },
  {
   "cell_type": "markdown",
   "id": "81fff13d",
   "metadata": {},
   "source": [
    "# Facial Emotion Recognition"
   ]
  },
  {
   "cell_type": "markdown",
   "id": "3b70d911",
   "metadata": {},
   "source": [
    "#### 1. Dataset Collection"
   ]
  },
  {
   "cell_type": "markdown",
   "id": "408116ac",
   "metadata": {},
   "source": [
    "For this project, we will use the `FER-2013 Dataset`. It is a large publicly available dataset that contains 35,887 grayscale images of facial expressions categorized into seven emotions (anger, disgust, fear, happiness, sadness, surprise, and neutral). The dataset provides a good balance of images across different emotions. FER-2013 is a publicly accessible dataset, which means that it is free to use and safe for this project."
   ]
  },
  {
   "cell_type": "markdown",
   "id": "ab742a42",
   "metadata": {},
   "source": [
    "You can download the dataset from [kagge](https://www.kaggle.com/datasets/deadskull7/fer2013).\n",
    "<br />\n",
    "*If you want the program to run smoothly, download the file from the link provided and put it in the* `/dataset`  *directory, making sure the file name is* `fer2013.csv`."
   ]
  },
  {
   "cell_type": "markdown",
   "id": "01979be0",
   "metadata": {},
   "source": [
    "First, let's load the data into `Pandas`."
   ]
  },
  {
   "cell_type": "code",
   "execution_count": 12,
   "id": "17bf7392",
   "metadata": {},
   "outputs": [
    {
     "data": {
      "text/html": [
       "<div>\n",
       "<style scoped>\n",
       "    .dataframe tbody tr th:only-of-type {\n",
       "        vertical-align: middle;\n",
       "    }\n",
       "\n",
       "    .dataframe tbody tr th {\n",
       "        vertical-align: top;\n",
       "    }\n",
       "\n",
       "    .dataframe thead th {\n",
       "        text-align: right;\n",
       "    }\n",
       "</style>\n",
       "<table border=\"1\" class=\"dataframe\">\n",
       "  <thead>\n",
       "    <tr style=\"text-align: right;\">\n",
       "      <th></th>\n",
       "      <th>emotion</th>\n",
       "      <th>pixels</th>\n",
       "      <th>Usage</th>\n",
       "    </tr>\n",
       "  </thead>\n",
       "  <tbody>\n",
       "    <tr>\n",
       "      <th>0</th>\n",
       "      <td>0</td>\n",
       "      <td>70 80 82 72 58 58 60 63 54 58 60 48 89 115 121...</td>\n",
       "      <td>Training</td>\n",
       "    </tr>\n",
       "    <tr>\n",
       "      <th>1</th>\n",
       "      <td>0</td>\n",
       "      <td>151 150 147 155 148 133 111 140 170 174 182 15...</td>\n",
       "      <td>Training</td>\n",
       "    </tr>\n",
       "    <tr>\n",
       "      <th>2</th>\n",
       "      <td>2</td>\n",
       "      <td>231 212 156 164 174 138 161 173 182 200 106 38...</td>\n",
       "      <td>Training</td>\n",
       "    </tr>\n",
       "    <tr>\n",
       "      <th>3</th>\n",
       "      <td>4</td>\n",
       "      <td>24 32 36 30 32 23 19 20 30 41 21 22 32 34 21 1...</td>\n",
       "      <td>Training</td>\n",
       "    </tr>\n",
       "    <tr>\n",
       "      <th>4</th>\n",
       "      <td>6</td>\n",
       "      <td>4 0 0 0 0 0 0 0 0 0 0 0 3 15 23 28 48 50 58 84...</td>\n",
       "      <td>Training</td>\n",
       "    </tr>\n",
       "    <tr>\n",
       "      <th>5</th>\n",
       "      <td>2</td>\n",
       "      <td>55 55 55 55 55 54 60 68 54 85 151 163 170 179 ...</td>\n",
       "      <td>Training</td>\n",
       "    </tr>\n",
       "    <tr>\n",
       "      <th>6</th>\n",
       "      <td>4</td>\n",
       "      <td>20 17 19 21 25 38 42 42 46 54 56 62 63 66 82 1...</td>\n",
       "      <td>Training</td>\n",
       "    </tr>\n",
       "    <tr>\n",
       "      <th>7</th>\n",
       "      <td>3</td>\n",
       "      <td>77 78 79 79 78 75 60 55 47 48 58 73 77 79 57 5...</td>\n",
       "      <td>Training</td>\n",
       "    </tr>\n",
       "    <tr>\n",
       "      <th>8</th>\n",
       "      <td>3</td>\n",
       "      <td>85 84 90 121 101 102 133 153 153 169 177 189 1...</td>\n",
       "      <td>Training</td>\n",
       "    </tr>\n",
       "    <tr>\n",
       "      <th>9</th>\n",
       "      <td>2</td>\n",
       "      <td>255 254 255 254 254 179 122 107 95 124 149 150...</td>\n",
       "      <td>Training</td>\n",
       "    </tr>\n",
       "  </tbody>\n",
       "</table>\n",
       "</div>"
      ],
      "text/plain": [
       "   emotion                                             pixels     Usage\n",
       "0        0  70 80 82 72 58 58 60 63 54 58 60 48 89 115 121...  Training\n",
       "1        0  151 150 147 155 148 133 111 140 170 174 182 15...  Training\n",
       "2        2  231 212 156 164 174 138 161 173 182 200 106 38...  Training\n",
       "3        4  24 32 36 30 32 23 19 20 30 41 21 22 32 34 21 1...  Training\n",
       "4        6  4 0 0 0 0 0 0 0 0 0 0 0 3 15 23 28 48 50 58 84...  Training\n",
       "5        2  55 55 55 55 55 54 60 68 54 85 151 163 170 179 ...  Training\n",
       "6        4  20 17 19 21 25 38 42 42 46 54 56 62 63 66 82 1...  Training\n",
       "7        3  77 78 79 79 78 75 60 55 47 48 58 73 77 79 57 5...  Training\n",
       "8        3  85 84 90 121 101 102 133 153 153 169 177 189 1...  Training\n",
       "9        2  255 254 255 254 254 179 122 107 95 124 149 150...  Training"
      ]
     },
     "execution_count": 12,
     "metadata": {},
     "output_type": "execute_result"
    }
   ],
   "source": [
    "face_data = pd.read_csv('dataset/fer2013.csv')\n",
    "face_data.head(10)"
   ]
  },
  {
   "cell_type": "markdown",
   "id": "a6a579b4",
   "metadata": {},
   "source": [
    "As we can see, we have successfully added the dataset to Pandas. We even managed to see some information about the first 10 pictures. By the result we get, we can see the photo number, emotion label index, pixels and usage.\n",
    "\n",
    "Here is the mapping of the emotion labels in the FER-2013 dataset:\n",
    "0. Angry\n",
    "1. Disgust\n",
    "2. Fear\n",
    "3. Happy\n",
    "4. Sad\n",
    "5. Surprise\n",
    "6. Neutral"
   ]
  },
  {
   "cell_type": "markdown",
   "id": "27758ec0",
   "metadata": {},
   "source": [
    "Now, to make sure the dataset contains real faces and not random images, let's try rendering one of them using just the pixels! This sounds like a pretty interesting problem."
   ]
  },
  {
   "cell_type": "code",
   "execution_count": 94,
   "id": "02ef5e27",
   "metadata": {},
   "outputs": [
    {
     "data": {
      "image/png": "[encoded data removed]",
      "text/plain": [
       "<Figure size 640x480 with 1 Axes>"
      ]
     },
     "metadata": {},
     "output_type": "display_data"
    }
   ],
   "source": [
    "# First, we need to select the pixel values of the desired image \n",
    "pixels = face_data['pixels'][0] # Feel free to change the last number\n",
    "\n",
    "# Now we need to convert the pixel values from string to a NumPy array\n",
    "pixels_array = np.array(pixels.split(), dtype='uint8')\n",
    "\n",
    "# Reshape the pixel array to match the dimensions of the image \n",
    "# Note that in the FER-2013 dataset, each image has a size of 48x48 pixels\n",
    "image = pixels_array.reshape(IMAGE_SIZE, IMAGE_SIZE)\n",
    "\n",
    "# And finally display the image using matplotlib\n",
    "plt.imshow(image, cmap='gray')\n",
    "plt.axis('off')\n",
    "plt.show()"
   ]
  },
  {
   "cell_type": "markdown",
   "id": "0bebbc48",
   "metadata": {},
   "source": [
    "If we want to use it as a function we can do something like this:"
   ]
  },
  {
   "cell_type": "code",
   "execution_count": 92,
   "id": "d06da0bf",
   "metadata": {},
   "outputs": [],
   "source": [
    "# Note that we want this function to be as flexible as possible\n",
    "def display_face_data(dataset, index_column_name, image_index, image_size):\n",
    "    pixels = dataset[index_column_name][image_index]\n",
    "    pixels_array = np.array(pixels.split(), dtype=\"uint8\")\n",
    "    image = pixels_array.reshape(image_size, image_size)\n",
    "    \n",
    "    plt.imshow(image, cmap=\"gray\")\n",
    "    plt.axis('off')\n",
    "    plt.show()"
   ]
  },
  {
   "cell_type": "markdown",
   "id": "534d3432",
   "metadata": {},
   "source": [
    "And now let's try using this function with some random values:"
   ]
  },
  {
   "cell_type": "code",
   "execution_count": 95,
   "id": "2e425fe9",
   "metadata": {},
   "outputs": [
    {
     "data": {
      "image/png": "[encoded data removed]",
      "text/plain": [
       "<Figure size 640x480 with 1 Axes>"
      ]
     },
     "metadata": {},
     "output_type": "display_data"
    },
    {
     "data": {
      "image/png": "[encoded data removed]",
      "text/plain": [
       "<Figure size 640x480 with 1 Axes>"
      ]
     },
     "metadata": {},
     "output_type": "display_data"
    },
    {
     "data": {
      "image/png": "[encoded data removed]",
      "text/plain": [
       "<Figure size 640x480 with 1 Axes>"
      ]
     },
     "metadata": {},
     "output_type": "display_data"
    },
    {
     "data": {
      "image/png": "[encoded data removed]",
      "text/plain": [
       "<Figure size 640x480 with 1 Axes>"
      ]
     },
     "metadata": {},
     "output_type": "display_data"
    }
   ],
   "source": [
    "display_face_data(face_data, 'pixels', 13, IMAGE_SIZE)\n",
    "display_face_data(face_data, 'pixels', 42, IMAGE_SIZE)\n",
    "display_face_data(face_data, 'pixels', 69, IMAGE_SIZE)\n",
    "display_face_data(face_data, 'pixels', 73, IMAGE_SIZE)"
   ]
  },
  {
   "cell_type": "markdown",
   "id": "023ec3a6",
   "metadata": {},
   "source": [
    "We could even try to break it! :D"
   ]
  },
  {
   "cell_type": "code",
   "execution_count": 38,
   "id": "c730bb21",
   "metadata": {},
   "outputs": [],
   "source": [
    "# First, let's try to abuse the image size (comment out the lines of code to try)\n",
    "\n",
    "# display_face_data(face_data, 'pixels', 101, 1) # What if it's 1?\n",
    "# display_face_data(face_data, 'pixels', 101, 96) # What if it's double on size?\n",
    "# display_face_data(face_data, 'pixels', 13, -48) # What if the number is negative?\n",
    "\n",
    "# as we can see, matplotlib does not allow us to do such a simple thing. \n",
    "# Interesting, we learned a bit more about the behavior of matplotlib :D\n",
    "\n",
    "# Now, what would happen if we want to access a non-existing image? (comment out to try)\n",
    "\n",
    "# display_face_data(face_data, 'pixels', 50000, 48)\n",
    "\n",
    "# As we can see, we get an exception! This is a very good behavior for a function (in programming!)"
   ]
  },
  {
   "cell_type": "markdown",
   "id": "c08e9d54",
   "metadata": {},
   "source": [
    "If we want to know the exact number of images in this dataset, we can always check its shape."
   ]
  },
  {
   "cell_type": "code",
   "execution_count": 39,
   "id": "4a816e0a",
   "metadata": {},
   "outputs": [
    {
     "data": {
      "text/plain": [
       "(35887, 3)"
      ]
     },
     "execution_count": 39,
     "metadata": {},
     "output_type": "execute_result"
    }
   ],
   "source": [
    "face_data.shape"
   ]
  },
  {
   "cell_type": "markdown",
   "id": "f3fc6d35",
   "metadata": {},
   "source": [
    "As we can see, 35887 rows by 3 columns (emotion, pixels, usage). Now that we could safely say, that we know our dataset, we could preprocess it!"
   ]
  },
  {
   "cell_type": "markdown",
   "id": "2d077f9d",
   "metadata": {},
   "source": [
    "#### 2. Preprocessing"
   ]
  },
  {
   "cell_type": "markdown",
   "id": "8fe5692f",
   "metadata": {},
   "source": [
    "We need to preprocess the facial images to enhance their quality and extract relevant features. We will do it using `eigenvectors`, specifically for the task of facial expression recognition with `Eigenfaces`.\n"
   ]
  },
  {
   "cell_type": "code",
   "execution_count": 45,
   "id": "47aa20fb",
   "metadata": {},
   "outputs": [],
   "source": [
    "# First, we will extract the pixel values and emotion labels from the dataset\n",
    "pixels = face_data['pixels'].values\n",
    "emotions = face_data['emotion'].values"
   ]
  },
  {
   "cell_type": "markdown",
   "id": "92f5fdcb",
   "metadata": {},
   "source": [
    "After loading the `FER-2013` dataset into the `face_data` DataFrame, we can access specific columns using their column names. The `pixels` column contains the pixel values of each facial image in the dataset. We extract these values using the `values` attribute, which returns the values of the column as a NumPy array. Likewise, the `emotion` column contains the emotion labels corresponding to each facial expression. We also extract these labels as a NumPy array. *These arrays can be used to access and manipulate the pixel values and emotion labels associated with each facial image in the dataset.*"
   ]
  },
  {
   "cell_type": "code",
   "execution_count": 46,
   "id": "f1ef37a1",
   "metadata": {},
   "outputs": [],
   "source": [
    "# Now we will convert the pixel values from strings to NumPy arrays\n",
    "pixels_array = np.array([np.fromstring(pixel, dtype=int, sep=' ') for pixel in pixels])"
   ]
  },
  {
   "cell_type": "markdown",
   "id": "5a970dd8",
   "metadata": {},
   "source": [
    "In the FER-2013 dataset, the pixel values are stored as strings, with each pixel separated by a space. To convert these strings into NumPy arrays, we use a list comprehension to iterate over each pixel string in the `pixels` array and apply the `np.fromstring()` function, which converts a string representation of an array to an actual NumPy array. Here, `pixel` represents each pixel string in the pixels array, `dtype=int` specifies that the pixel values should be treated as integers, and `sep=' '` specifies that the separator between pixels is a space. The resulting NumPy array, `pixels_array`, will have the shape (number of images, number of pixels), where each row corresponds to an image and each column contains the pixel values for that image. \n",
    "<br />\n",
    "In two words: we convert the pixel values from strings to NumPy arrays, which allows for easier manipulation and analysis of the image data in subsequent steps of the data preprocessing pipeline."
   ]
  },
  {
   "cell_type": "code",
   "execution_count": 55,
   "id": "f244ecb2",
   "metadata": {},
   "outputs": [
    {
     "data": {
      "text/plain": [
       "(35887, 2304)"
      ]
     },
     "execution_count": 55,
     "metadata": {},
     "output_type": "execute_result"
    }
   ],
   "source": [
    "# We can see the shape of our new array\n",
    "pixels_array.shape"
   ]
  },
  {
   "cell_type": "markdown",
   "id": "eb3f5afc",
   "metadata": {},
   "source": [
    "As we can see, we have a result, showing us 35887 *(images)*. But what could 2304 mean? Exactly, that's the number of pixels in each image. Let me show you!"
   ]
  },
  {
   "cell_type": "code",
   "execution_count": 101,
   "id": "8fef1dd1",
   "metadata": {},
   "outputs": [],
   "source": [
    "# To do so, we will use the first image's size and compare it with the size, stated above.\n",
    "size = int(pixels_array[0].size)\n",
    "image = sqrt(size)\n",
    "if image == IMAGE_SIZE:\n",
    "    print(\"Yep, that is the size of the picture! (in pixels)\")"
   ]
  },
  {
   "cell_type": "code",
   "execution_count": 47,
   "id": "283aa907",
   "metadata": {},
   "outputs": [],
   "source": [
    "# After that, we will compute the mean face\n",
    "mean_face = np.mean(pixels_array, axis=0)"
   ]
  },
  {
   "cell_type": "markdown",
   "id": "c7d129a1",
   "metadata": {},
   "source": [
    "The mean face represents the average values of all the pixel values across all the facial images in the dataset. To compute the mean face, we use the `np.mean()` function from NumPy, which calculates the average along a specified axis. In this case, we calculate the mean across the rows `(axis=0)` of the `pixels_array`. By executing this step, we obtain the mean face, which serves as a reference or baseline for subsequent steps in eigenface-based facial expression recognition. The mean face represents the \"typical\" face in the dataset, and by subtracting it from individual faces, we can focus on the deviations or unique features that contribute to different facial expressions."
   ]
  },
  {
   "cell_type": "code",
   "execution_count": 49,
   "id": "463096e1",
   "metadata": {},
   "outputs": [],
   "source": [
    "# Compute the covariance matrix\n",
    "cov_matrix = np.cov(pixels_array.T)"
   ]
  },
  {
   "cell_type": "markdown",
   "id": "1b059c01",
   "metadata": {},
   "source": [
    "The covariance matrix provides information about the relationships and variances between different features (pixel values) in the dataset. To compute the covariance matrix, we use the `np.cov()` function from NumPy, which calculates the covariance matrix of a given dataset. We pass in the transpose of `pixels_array` to compute the covariance matrix of the pixel values across different images. The resulting `cov_matrix` is a square matrix where each element represents the covariance between two different pixel values. It helps us understand the relationships and variances among the different pixel values in the dataset. **The covariance matrix is a crucial component** in eigenface-based facial expression recognition, as it forms the basis for finding the principal components *(eigenvectors)* that capture the most important information or features in the dataset."
   ]
  },
  {
   "cell_type": "code",
   "execution_count": 57,
   "id": "7ce28fae",
   "metadata": {},
   "outputs": [
    {
     "data": {
      "text/plain": [
       "(2304, 2304)"
      ]
     },
     "execution_count": 57,
     "metadata": {},
     "output_type": "execute_result"
    }
   ],
   "source": [
    "cov_matrix.shape"
   ]
  },
  {
   "cell_type": "markdown",
   "id": "08065061",
   "metadata": {},
   "source": [
    "Does this result seem kind of similar? :D"
   ]
  },
  {
   "cell_type": "code",
   "execution_count": 50,
   "id": "e23cc4c3",
   "metadata": {},
   "outputs": [],
   "source": [
    "# Perform eigenvalue decomposition on the covariance matrix\n",
    "eigenvalues, eigenvectors = np.linalg.eig(cov_matrix)"
   ]
  },
  {
   "cell_type": "markdown",
   "id": "95273b7d",
   "metadata": {},
   "source": [
    "Eigenvalue decomposition, also known as eigendecomposition, is a process that decomposes a square matrix into its eigenvectors and eigenvalues. To perform eigenvalue decomposition, we use the `np.linalg.eig()` function from NumPy, which returns the eigenvalues and eigenvectors of a given matrix. We pass in the `cov_matrix`. The resulting `eigenvalues` is an array that contains the eigenvalues of the covariance matrix, and `eigenvectors` is a matrix where each column represents an eigenvector. The eigenvalues represent the importance or magnitude of each eigenvector, while the eigenvectors capture the directions or patterns of variability in the dataset. These eigenvectors will be used to form the basis for the eigenfaces, which are the principal components that capture the most significant facial features or variations in the dataset."
   ]
  },
  {
   "cell_type": "code",
   "execution_count": 81,
   "id": "0dcccabd",
   "metadata": {},
   "outputs": [
    {
     "name": "stdout",
     "output_type": "stream",
     "text": [
      "The shape of the eigenvalues is:      (2304,)\n",
      "The shape of the eigenvectors is:     (2304, 2304)\n"
     ]
    }
   ],
   "source": [
    "# We could also check out the shape of the two arrays\n",
    "print(\"The shape of the eigenvalues is:     \", eigenvalues.shape)\n",
    "print(\"The shape of the eigenvectors is:    \", eigenvectors.shape)"
   ]
  },
  {
   "cell_type": "code",
   "execution_count": 51,
   "id": "64d5a39b",
   "metadata": {},
   "outputs": [],
   "source": [
    "# Sort the eigenvalues and eigenvectors in descending order\n",
    "eigen_indices = np.argsort(eigenvalues)[::-1]\n",
    "eigenvalues = eigenvalues[eigen_indices]\n",
    "eigenvectors = eigenvectors[:, eigen_indices]"
   ]
  },
  {
   "cell_type": "markdown",
   "id": "8915aa74",
   "metadata": {},
   "source": [
    "After performing eigenvalue decomposition in the previous step, the eigenvalues and eigenvectors are not sorted in any particular order. Sorting the eigenvalues and eigenvectors is necessary to identify the most significant eigenvectors *(those with the highest eigenvalues)* that capture the most important information in the dataset. We use the `np.argsort()` function from NumPy to obtain the indices that would sort the eigenvalues in ascending order. Then, we reverse the order using the `[::-1]` slicing notation to sort them in descending order. The resulting `eigenvalues` and `eigenvectors` are sorted in descending order based on the magnitude of the eigenvalues. This sorting process is essential for selecting the top-k eigenvectors in subsequent steps, as they capture the most important facial features or variations in the dataset."
   ]
  },
  {
   "cell_type": "code",
   "execution_count": 52,
   "id": "2dbeb7ee",
   "metadata": {},
   "outputs": [],
   "source": [
    "# Choose the top-k eigenvectors based on the desired number of dimensions to retain\n",
    "k = 100  # Feel free to change the desired number of dimensions\n",
    "selected_eigenvectors = eigenvectors[:, :k]"
   ]
  },
  {
   "cell_type": "markdown",
   "id": "f9311cc6",
   "metadata": {},
   "source": [
    "The top-k eigenvectors represent the most significant components or patterns in the dataset, which capture the majority of the important information or features. Based on your specific requirements or the desired level of dimensionality reduction, you can choose the number of dimensions `(k)` to retain. We select the top-k eigenvectors from the sorted `eigenvectors`. The slicing operation `[:, :k]` selects the first k columns (eigenvectors) from the matrix. The resulting `selected_eigenvectors` is a matrix containing the top-k eigenvectors that capture the most important facial features or variations in the dataset. *The value of k can be adjusted based on your specific requirements, computational resources, and the amount of information you want to retain in the dataset.*"
   ]
  },
  {
   "cell_type": "code",
   "execution_count": 53,
   "id": "0de7d610",
   "metadata": {},
   "outputs": [],
   "source": [
    "# And finally, project the images onto the eigenspace\n",
    "projected_faces = np.dot(pixels_array - mean_face, selected_eigenvectors)"
   ]
  },
  {
   "cell_type": "markdown",
   "id": "f254afb8",
   "metadata": {},
   "source": [
    "Once we have selected the top-k eigenvectors (eigenfaces) in step 8, we can project the images from the dataset onto this eigenspace. To perform the projection, we subtract the mean face obtained previously from each image in the `pixels_array` and then dot product the result with the `selected_eigenvectors`. The subtraction of the mean face centers the images around zero, removing the influence of the mean face. The dot product with the `selected_eigenvectors` projects each centered image onto the eigenspace represented by the selected eigenvectors. The resulting `projected_face`s is a matrix where each row represents the projection of an image onto the eigenspace, with reduced dimensions based on the selected eigenvectors. By executing this step, we obtain the projected faces, which are the representations of the original facial images in the reduced eigenspace. These projected faces capture the essential facial features or variations that are relevant for facial expression recognition or related tasks. The dimensionality reduction achieved through the projection onto the eigenspace allows for efficient computation and analysis of the facial data."
   ]
  },
  {
   "cell_type": "code",
   "execution_count": 132,
   "id": "f5b02267",
   "metadata": {},
   "outputs": [
    {
     "data": {
      "image/png": "[encoded data removed]",
      "text/plain": [
       "<Figure size 1200x300 with 10 Axes>"
      ]
     },
     "metadata": {},
     "output_type": "display_data"
    }
   ],
   "source": [
    "num_eigenfaces = 10 # The number of eigenfaces to display\n",
    "\n",
    "# Compute the eigenface images\n",
    "eigenface_images = selected_eigenvectors[:, :num_eigenfaces].T  # Transpose and select top eigenfaces\n",
    "eigenface_images = eigenface_images.reshape(num_eigenfaces, IMAGE_SIZE, IMAGE_SIZE)  # Reshape into image dimensions\n",
    "\n",
    "# Normalize eigenface images\n",
    "eigenface_images = (eigenface_images - np.min(eigenface_images)) / (np.max(eigenface_images) - np.min(eigenface_images))\n",
    "eigenface_images = (eigenface_images * 255).astype(np.uint8)  # Convert to uint8\n",
    "\n",
    "# Adjust contrast and brightness\n",
    "adjusted_eigenface_images = []\n",
    "for i in range(num_eigenfaces):\n",
    "    adjusted_image = cv2.equalizeHist(eigenface_images[i])  # Apply histogram equalization for contrast enhancement\n",
    "    adjusted_image = cv2.convertScaleAbs(adjusted_image, alpha=0.5, beta=5)  # Adjust brightness and contrast\n",
    "    adjusted_eigenface_images.append(adjusted_image)\n",
    "\n",
    "# Display the eigenface images\n",
    "fig, axes = plt.subplots(1, num_eigenfaces, figsize=(12, 3))\n",
    "for i in range(num_eigenfaces):\n",
    "    axes[i].imshow(adjusted_eigenface_images[i], cmap='gray')\n",
    "    axes[i].axis('off')\n",
    "plt.show()"
   ]
  },
  {
   "cell_type": "markdown",
   "id": "3fd05a20",
   "metadata": {},
   "source": [
    "And here we have it! Welcome nightmares :D"
   ]
  },
  {
   "cell_type": "markdown",
   "id": "9ac42eaf",
   "metadata": {},
   "source": [
    "Now, the `projected_faces` variable contains the preprocessed data, where each image from the `FER-2013` dataset has been projected onto the eigenspace represented by the selected eigenvectors. These projected faces can be further used for tasks such as facial expression recognition or other related analyses."
   ]
  }
 ],
 "metadata": {
  "kernelspec": {
   "display_name": "Python 3 (ipykernel)",
   "language": "python",
   "name": "python3"
  },
  "language_info": {
   "codemirror_mode": {
    "name": "ipython",
    "version": 3
   },
   "file_extension": ".py",
   "mimetype": "text/x-python",
   "name": "python",
   "nbconvert_exporter": "python",
   "pygments_lexer": "ipython3",
   "version": "3.10.9"
  }
 },
 "nbformat": 4,
 "nbformat_minor": 5
}
