{
 "cells": [
  {
   "cell_type": "markdown",
   "id": "b207a8f5",
   "metadata": {},
   "source": [
    "# High-School Maths - Lab\n",
    "### Example and tests to prepare for the real fun"
   ]
  },
  {
   "cell_type": "markdown",
   "id": "01ab300e",
   "metadata": {},
   "source": [
    "## Motivating Examples\n",
    "### Math in real life\n",
    "1. Honeycomb cells - Bees produce wax by consuming some of the honey they've made. Wax production takes time and energy (honey). The hexagonal cells leave no unused space, and consume the least amount of wax and energy.\n",
    "2. Snowflakes - All snowflakes are unique, but they are perfectly symmetrical. Each arm *(unless damaged)* is identical. This makes them strong enough to stay together\n",
    "3. Romanesco broccoli - Each little floret looks exactly like the whole plant. *(This is called **a fractal**)*. Seen from above, the florets form a spiral *(Fibonacci spiral)*.\n",
    "\n",
    "The Fiboncci spirals are everywhere:\n",
    "- Flowers, pinecones\n",
    "- Animal shells\n",
    "- Hurricanes\n",
    "- Galaxies"
   ]
  },
  {
   "cell_type": "markdown",
   "id": "61e60b12",
   "metadata": {},
   "source": [
    "### Mathematics in Music\n",
    "###### Sound is a combination of waves travelling trough the air\n",
    "- Each sound wave has frequency (pitch)\n",
    "- Every note is associated with a certain frequency\n",
    "    - E.g., A4 produces 440 oscillations every second (440Hz)\n",
    "- Some combinations of tones sound pleasant, others sound harsh\n",
    "    - Our ears like simple frequency ratios, e.g. 2:3 is better than 160:231\n",
    "    - All \"good sounding\" combinations of tones have simple ratios\n",
    "- Example: \"A major\" chord\n",
    "    - A4: 440Hz, C#5: 554,37Hz, E5: 659,25 Hz\n",
    "    - A4: C#5: E5 $\\approx$ 4:5:6\n",
    "    - A4: E5 $\\approx$ 2:3 "
   ]
  },
  {
   "cell_type": "markdown",
   "id": "71b8920f",
   "metadata": {},
   "source": [
    "## Methods\n",
    "### How not to get lost\n",
    "\n",
    "### Divide and conquer\n",
    "- Useful for any kind of problem\n",
    "    - Especially in algorithms and debugging\n",
    "    - ... also, when invading countries\n",
    "- Assumption: **Complicated things are a combination of many, very simple things**\n",
    "    - Algorithms: **Merge sort**, **Discrete Fourtier transform**\n",
    "    - Software architecture:\n",
    "        - \"I want to build an ecommerce system\"\n",
    "            => I want shop owners to add new products\n",
    "            => I want to store products in the DB => ...\n",
    "            => ```def save_product(name, price)```\n",
    "    - Debugging\n",
    "        - The bug is somewhere in my code => ...\n",
    "            => the bug is \">=\" instead of \">\" on line 45 in `user.py`\n",
    "\n",
    "### The Scientific Method Steps\n",
    "- Ask a question\n",
    "- Do some research\n",
    "- Form a hypothesis\n",
    "- Test the hypothesis with an experiment\n",
    "    - Experiment works => Analyze the data\n",
    "    - Experiment doesn't work =? Fix experiment\n",
    "- Results align with hypothesis => OK\n",
    "- Results don't align with hypothesis => new question, new hypothesis\n",
    "- Communicate the results\n",
    "\n",
    "#### Why use the Scientific Method?\n",
    "- Useful when we're exploring something new\n",
    "    - A new algorithm\n",
    "    - A new codebase we've just been hired to work on\n",
    "- Based on common logic\n",
    "- Experiments\n",
    "- **Example:** performance testing\n",
    "    - **Research:** My logs show that this Web page on my server takes too much time to load\n",
    "    - **Hypothesis:** This piece of code is too slow. I need to improve it\n",
    "    - **Control:** Measure the runtime (in seconds)\n",
    "    - **Experiment:** Try to fix the problem and repeat the runtime test\n",
    "        - Did the fix bring a considerable performance gain?\n",
    "    - **Communication:** Show the results and implement the fix"
   ]
  },
  {
   "cell_type": "markdown",
   "id": "fa6c88a2",
   "metadata": {},
   "source": [
    "## Math Notation\n",
    "### How to write more quickly and concisely\n",
    "\n",
    "TODO: "
   ]
  },
  {
   "cell_type": "code",
   "execution_count": null,
   "id": "d1590efd",
   "metadata": {},
   "outputs": [],
   "source": []
  }
 ],
 "metadata": {
  "kernelspec": {
   "display_name": "Python 3 (ipykernel)",
   "language": "python",
   "name": "python3"
  },
  "language_info": {
   "codemirror_mode": {
    "name": "ipython",
    "version": 3
   },
   "file_extension": ".py",
   "mimetype": "text/x-python",
   "name": "python",
   "nbconvert_exporter": "python",
   "pygments_lexer": "ipython3",
   "version": "3.9.13"
  }
 },
 "nbformat": 4,
 "nbformat_minor": 5
}
